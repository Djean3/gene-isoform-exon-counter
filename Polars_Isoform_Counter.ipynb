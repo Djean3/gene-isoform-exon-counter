{
 "cells": [
  {
   "cell_type": "code",
   "execution_count": 1,
   "metadata": {},
   "outputs": [
    {
     "name": "stdout",
     "output_type": "stream",
     "text": [
      "Unique exon count for PB.3: 23\n",
      "Final result saved to C:\\Users\\DJ\\Documents\\PhD\\COMS 6100\\Final\\unique_exons_summary_DJ.csv\n",
      "Script completed in 4.16 seconds\n"
     ]
    }
   ],
   "source": [
    "import polars as pl\n",
    "from io import StringIO\n",
    "import time\n",
    "import pyfiglet\n",
    "\n",
    "# Start the timer\n",
    "start_time = time.time()\n",
    "\n",
    "# Read and preprocess the original GTF file\n",
    "file_path = r\"C:\\Users\\DJ\\Documents\\PhD\\COMS 6100\\Final\\Omyk_2.0.gtf\"\n",
    "\n",
    "# Read and preprocess the file to skip comments and ensure correct columns\n",
    "with open(file_path, 'r') as infile:\n",
    "    cleaned_data = \"\\n\".join([\n",
    "        line.strip() for line in infile\n",
    "        if not line.startswith(\"#\") and len(line.strip().split(\"\\t\")) == 9\n",
    "    ])\n",
    "\n",
    "# Use StringIO to create an in-memory file and read it directly into Polars\n",
    "df = pl.read_csv(StringIO(cleaned_data), separator=\"\\t\", has_header=False).rename({\n",
    "    \"column_1\": \"seqname\", \"column_2\": \"source\", \"column_3\": \"feature\",\n",
    "    \"column_4\": \"start\", \"column_5\": \"end\", \"column_6\": \"score\",\n",
    "    \"column_7\": \"strand\", \"column_8\": \"frame\", \"column_9\": \"attribute\"\n",
    "})\n",
    "\n",
    "# Filter and process the data\n",
    "df_exons = (\n",
    "    df.filter((pl.col(\"seqname\").str.contains(\"Omy\")) & (pl.col(\"feature\") == \"exon\"))  # Filter seqname and feature\n",
    "    .filter(pl.col(\"source\").str.contains(\"mRNA\"))  # Filter mRNA\n",
    "    .with_columns([  # Extract gene_id and isoform\n",
    "        pl.col(\"attribute\").str.extract(r'gene_id \"([a-zA-Z0-9_.]+)\"').alias(\"gene_id\"),\n",
    "        pl.col(\"attribute\").str.extract(r'transcript_id \"([a-zA-Z0-9_.]+)\"').alias(\"isoform\")\n",
    "    ])\n",
    "    .filter(pl.col(\"gene_id\").str.contains(r\"[a-zA-Z]+\"))  # Remove rows with numeric-only or missing gene_id\n",
    "    .sort([\"gene_id\", \"start\", \"end\"])  # Sort by gene_id, start, and end\n",
    "    .with_columns(  # Create start-end pair column\n",
    "        (pl.col(\"start\").cast(str) + \"_\" + pl.col(\"end\").cast(str)).alias(\"startEnd_pair\")\n",
    "    )\n",
    "    .with_columns(  # Identify duplicates\n",
    "        pl.col(\"startEnd_pair\").is_duplicated().alias(\"is_duplicate\")\n",
    "    )\n",
    "    .filter(~pl.col(\"is_duplicate\"))  # Remove duplicates\n",
    ")\n",
    "\n",
    "# Group and aggregate results\n",
    "result_df = (\n",
    "    df_exons.group_by(\"gene_id\").agg([\n",
    "        pl.col(\"isoform\").unique().alias(\"isoforms\"),  # Get unique isoforms\n",
    "        pl.col(\"startEnd_pair\").n_unique().alias(\"unique_exon_count\")  # Count unique start-end pairs\n",
    "    ])\n",
    "    .with_columns(  # Convert isoforms to comma-separated string\n",
    "        pl.col(\"isoforms\")\n",
    "        .list.eval(pl.element().sort())  # Sort isoforms\n",
    "        .list.join(\", \").alias(\"isoforms\")  # Join into a string\n",
    "    )\n",
    "    .sort(\"gene_id\")  # Sort final results by gene_id\n",
    ")\n",
    "result_df = result_df.rename({\n",
    "    \"gene_id\": \"Gene\",\n",
    "    \"isoforms\": \"Isoforms\",\n",
    "    \"unique_exon_count\": \"Unique Exon Count\"\n",
    "})\n",
    "# Save the results to a csv file\n",
    "output_file = r\"C:\\Users\\DJ\\Documents\\PhD\\COMS 6100\\Final\\unique_exons_summary_DJ.csv\"\n",
    "result_df.write_csv(output_file)\n",
    "\n",
    "# Sanity check the results\n",
    "pb3_row = result_df.filter(pl.col(\"Gene\") == \"PB.3\")\n",
    "pb3_exon_count = pb3_row[0, \"Unique Exon Count\"]\n",
    "print(f\"Unique exon count for PB.3: {pb3_exon_count}\")\n",
    "\n",
    "# End the timer\n",
    "end_time = time.time()\n",
    "print(f\"Final result saved to {output_file}\")\n",
    "print(f\"Script completed in {end_time - start_time:.2f} seconds\")\n",
    "\n",
    "\n",
    "\n"
   ]
  },
  {
   "cell_type": "code",
   "execution_count": null,
   "metadata": {},
   "outputs": [],
   "source": []
  },
  {
   "cell_type": "code",
   "execution_count": null,
   "metadata": {},
   "outputs": [],
   "source": []
  }
 ],
 "metadata": {
  "kernelspec": {
   "display_name": "mlflow",
   "language": "python",
   "name": "python3"
  },
  "language_info": {
   "codemirror_mode": {
    "name": "ipython",
    "version": 3
   },
   "file_extension": ".py",
   "mimetype": "text/x-python",
   "name": "python",
   "nbconvert_exporter": "python",
   "pygments_lexer": "ipython3",
   "version": "3.9.18"
  }
 },
 "nbformat": 4,
 "nbformat_minor": 2
}
